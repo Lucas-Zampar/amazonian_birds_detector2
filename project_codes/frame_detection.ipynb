{
 "cells": [
  {
   "cell_type": "markdown",
   "id": "f4850a6c",
   "metadata": {},
   "source": [
    "In this notebook, you can find the code used to detect recordings every 20 frames, in addition to saving them in a CSV file called history."
   ]
  },
  {
   "cell_type": "code",
   "execution_count": null,
   "id": "aef4564c",
   "metadata": {},
   "outputs": [],
   "source": [
    "import os\n",
    "import cv2\n",
    "import pandas as pd\n",
    "from PIL import Image\n",
    "from tqdm import tqdm_notebook\n",
    "from project_utils.fo_dataset_pipeline import *"
   ]
  },
  {
   "cell_type": "code",
   "execution_count": null,
   "id": "b4724715",
   "metadata": {},
   "outputs": [],
   "source": [
    "# path to the definitive model of the previous work or the preliminary model of the extended work\n",
    "model_path = '../faster_rcnn/preliminary_model/mmdet.faster_rcnn_resnext101_32x4d_fpn_1x.pth'\n",
    "\n",
    "# loading the model\n",
    "model_type, model, img_size, class_map = get_model_from_checkpoint(model_path)\n",
    "\n",
    "# defining the list of transformatios to apply to the inference images\n",
    "infer_tfms = get_tfms(img_size=img_size, tfms_type = 'valid')\n",
    "\n",
    "# definig the GPU as the device to make the predictions\n",
    "device = torch.device('cuda') \n",
    "\n",
    "# loading model to the GPU\n",
    "model = model.to(device) "
   ]
  },
  {
   "cell_type": "code",
   "execution_count": null,
   "id": "4eebf8b5",
   "metadata": {},
   "outputs": [],
   "source": [
    "webcam_no = 1 # defining the webcam number (1 or 2)\n",
    "\n",
    "webcam_path = f'/media/lucaszampar/BACKUP/webcam0{webcam_no}/'  # defining the path to the recordings\n",
    "detected_videos_path = f'{webcam_path}detected_videos/' # defining path to move the detected recordings\n",
    "\n",
    "history_path = f'{webcam_path}history/' # defining the path to save the detections in the history csv file\n",
    "history_filename = 'history.csv'"
   ]
  },
  {
   "cell_type": "code",
   "execution_count": null,
   "id": "3967fdb6",
   "metadata": {},
   "outputs": [],
   "source": [
    "# if any of the above paths do not exist, they will be created as well as the history csv file containing the detections\n",
    "if not os.path.exists(history_path):\n",
    "    os.mkdir(history_path)\n",
    "    history = pd.DataFrame(columns=['webcam', 'filename', 'frame_pos', 'labels', 'scores', 'bboxes'])\n",
    "    history.to_csv(history_path+history_filename, index=False)\n",
    "    \n",
    "if not os.path.exists(detected_videos_path):\n",
    "    os.mkdir(detected_videos_path)    "
   ]
  },
  {
   "cell_type": "code",
   "execution_count": null,
   "id": "aea79641",
   "metadata": {},
   "outputs": [],
   "source": [
    "frame_step = 20 # detections are performed every 20 frames\n",
    "\n",
    "history = pd.read_csv(history_path+history_filename)\n",
    "os.system(f'cp {history_path+history_filename} {history_path}history_bkp.csv') # The history csv file is backed up as a precaution"
   ]
  },
  {
   "cell_type": "code",
   "execution_count": null,
   "id": "78d3cedc",
   "metadata": {},
   "outputs": [],
   "source": [
    "# defining the recordings that will be detected for the day\n",
    "files = [webcam_path+filename for filename in os.listdir(webcam_path) \n",
    "         if os.path.isfile(webcam_path+filename) and filename.split('/')[-1][0:8] in ['05062024']]"
   ]
  },
  {
   "cell_type": "code",
   "execution_count": null,
   "id": "9dad6f77",
   "metadata": {},
   "outputs": [],
   "source": [
    "#files"
   ]
  },
  {
   "cell_type": "code",
   "execution_count": null,
   "id": "09cf9b8d",
   "metadata": {},
   "outputs": [],
   "source": [
    "#history"
   ]
  },
  {
   "cell_type": "code",
   "execution_count": null,
   "id": "8800a5f2",
   "metadata": {},
   "outputs": [],
   "source": [
    "for filepath in tqdm_notebook(files, desc=f'WEBCAM0{webcam_no}'):\n",
    "    \n",
    "    filename = filepath.split('/')[-1]\n",
    "\n",
    "    video = cv2.VideoCapture(filepath)\n",
    "    total_frames = int(video.get(cv2.CAP_PROP_FRAME_COUNT))\n",
    "\n",
    "    for frame_pos in tqdm_notebook(range(1, total_frames+1, frame_step), desc=f'Detectando {filename}: '):\n",
    "        \n",
    "        video.set(cv2.CAP_PROP_POS_FRAMES, frame_pos-1)\n",
    "        ret, frame = video.read()\n",
    "\n",
    "        if ret:\n",
    "            frame = cv2.cvtColor(frame, cv2.COLOR_BGR2RGB)\n",
    "            pil_frame = PIL.Image.fromarray(frame)\n",
    "\n",
    "            preds = model_type.end2end_detect(pil_frame, infer_tfms, model, class_map=class_map)\n",
    "            bboxes = preds['detection']['bboxes']\n",
    "\n",
    "            if len(bboxes) > 0: \n",
    "            \n",
    "                labels = preds['detection']['labels']\n",
    "                scores = preds['detection']['scores']\n",
    "\n",
    "                new_history_row = pd.DataFrame({\n",
    "                    'webcam':webcam_no,\n",
    "                    'filename': filename,\n",
    "                    'frame_pos': frame_pos-1, \n",
    "                    'frame_step': frame_step,\n",
    "                    'labels': [labels], \n",
    "                    'scores': [scores], \n",
    "                    'bboxes': [[bbox.xyxy for bbox in bboxes]]\n",
    "                })\n",
    "\n",
    "                history = pd.concat([history, new_history_row], ignore_index=True)\n",
    "    \n",
    "    history.to_csv(f'{history_path}{history_filename}', index=False)\n",
    "    os.system(f'mv {filepath} {detected_videos_path}{filename}')"
   ]
  },
  {
   "cell_type": "code",
   "execution_count": null,
   "id": "77644730",
   "metadata": {},
   "outputs": [],
   "source": [
    "# saving the detections performed in the csv file\n",
    "history = history.sort_values('filename').reset_index(drop=True)\n",
    "history.to_csv(f'{history_path}{history_filename}', index=False)"
   ]
  },
  {
   "cell_type": "code",
   "execution_count": null,
   "id": "3574e28f",
   "metadata": {},
   "outputs": [],
   "source": []
  }
 ],
 "metadata": {
  "kernelspec": {
   "display_name": "Python 3 (ipykernel)",
   "language": "python",
   "name": "python3"
  },
  "language_info": {
   "codemirror_mode": {
    "name": "ipython",
    "version": 3
   },
   "file_extension": ".py",
   "mimetype": "text/x-python",
   "name": "python",
   "nbconvert_exporter": "python",
   "pygments_lexer": "ipython3",
   "version": "3.9.16"
  }
 },
 "nbformat": 4,
 "nbformat_minor": 5
}
