{
 "cells": [
  {
   "cell_type": "markdown",
   "id": "d11432e5",
   "metadata": {},
   "source": [
    "In this notebook, you can find the code used to save the detections carried out by the models in the Pascal VOC format. They are later loaded into RoboFlow for manual adjustment."
   ]
  },
  {
   "cell_type": "code",
   "execution_count": null,
   "id": "38d7baa7",
   "metadata": {},
   "outputs": [],
   "source": [
    "import os\n",
    "import cv2\n",
    "import pandas as pd\n",
    "from PIL import Image"
   ]
  },
  {
   "cell_type": "code",
   "execution_count": null,
   "id": "06895a4b",
   "metadata": {},
   "outputs": [],
   "source": [
    "xml_template_start = '''<annotation>\n",
    "<folder/>\n",
    "<filename>{}</filename>\n",
    "<path>{}</path>\n",
    "<size>\n",
    "<width>1280</width>\n",
    "<height>720</height>\n",
    "<depth>3</depth>\n",
    "</size>\n",
    "<segmented>0</segmented>\n",
    "'''\n",
    "\n",
    "xml_object = '''<object>\n",
    "<name>{}</name>\n",
    "<pose>Unspecified</pose>\n",
    "<truncated>0</truncated>\n",
    "<difficult>0</difficult>\n",
    "<occluded>0</occluded>\n",
    "<bndbox>\n",
    "<xmin>{}</xmin>\n",
    "<xmax>{}</xmax>\n",
    "<ymin>{}</ymin>\n",
    "<ymax>{}</ymax>\n",
    "</bndbox>\n",
    "</object>\n",
    "'''\n",
    "\n",
    "xml_template_end = '</annotation>'"
   ]
  },
  {
   "cell_type": "code",
   "execution_count": null,
   "id": "62378ba4",
   "metadata": {},
   "outputs": [],
   "source": [
    "def convert_string_to_list(string, convert_to_int=False, delimiter=\",\"):\n",
    "    converted_list = string.strip(')(][ ').replace(\"'\", \"\").split(delimiter)\n",
    "    \n",
    "    if convert_to_int:\n",
    "        converted_list = [int(element.strip()) for element in converted_list if element != \"\"]\n",
    "    \n",
    "    return converted_list"
   ]
  },
  {
   "cell_type": "code",
   "execution_count": null,
   "id": "923081ac",
   "metadata": {},
   "outputs": [],
   "source": [
    "def load_history_file(history_path):\n",
    "    \n",
    "    history_filename = 'history.csv'\n",
    "    history = pd.read_csv(history_path+history_filename)\n",
    "    \n",
    "    # backup history file\n",
    "    os.system(f'cp {history_path+history_filename} {history_path}history_bkp.csv')\n",
    "    \n",
    "    return history"
   ]
  },
  {
   "cell_type": "code",
   "execution_count": null,
   "id": "57d8d5b2",
   "metadata": {},
   "outputs": [],
   "source": [
    "webcam_no = 2\n",
    "\n",
    "webcam_path = f'/media/lucaszampar/BACKUP/webcam0{webcam_no}/' \n",
    "\n",
    "history_path = webcam_path + 'history/' \n",
    "extracted_images_path = webcam_path + 'extracted_images/' "
   ]
  },
  {
   "cell_type": "code",
   "execution_count": null,
   "id": "e1f656ad",
   "metadata": {},
   "outputs": [],
   "source": [
    "history = load_history_file(history_path)"
   ]
  },
  {
   "cell_type": "code",
   "execution_count": null,
   "id": "990774c0",
   "metadata": {},
   "outputs": [],
   "source": [
    "#folders = ['bem_te_vi/', 'canario_do_amazonas/', 'sanhaco_da_amazonia/', 'sanhaco_do_coqueiro/', 'rolinha/']\n",
    "#folders = ['chupim/']"
   ]
  },
  {
   "cell_type": "code",
   "execution_count": null,
   "id": "18d07945",
   "metadata": {},
   "outputs": [],
   "source": [
    "for species_folder in folders:    \n",
    "    \n",
    "    image_files = os.listdir(extracted_images_path + species_folder)\n",
    "    \n",
    "    for image_filename in image_files:\n",
    "\n",
    "        xml = ''\n",
    "        annotation_filename = image_filename.replace('.jpg', '.xml')\n",
    "        image_filname_parts = image_filename.split('_')\n",
    "\n",
    "        video_filename = '_'.join(image_filname_parts[0:3])+'.mp4'\n",
    "        frame_pos = image_filname_parts[3]\n",
    "\n",
    "        detection = history.query(f\" filename == '{video_filename}' and frame_pos == {frame_pos}\")\n",
    "\n",
    "        labels = convert_string_to_list(detection['labels'].iloc[0]) \n",
    "        bboxes = detection['bboxes'].iloc[0].strip('][').split('), ')\n",
    "        bboxes = [convert_string_to_list(bbox, convert_to_int=True) for bbox in bboxes]\n",
    "\n",
    "        xml += xml_template_start.format(image_filename, image_filename)\n",
    "\n",
    "        for label, bbox in zip(labels, bboxes):\n",
    "\n",
    "            xmin, ymin, xmax, ymax = [int(point) for point in bbox ]\n",
    "            xml += xml_object.format(label, xmin, xmax, ymin,  ymax)\n",
    "\n",
    "        xml += xml_template_end\n",
    "\n",
    "        with open(f'{extracted_images_path+species_folder}{annotation_filename}', 'w') as annotation_xml: \n",
    "            annotation_xml.write(xml)\n",
    "\n",
    "        \n",
    "\n"
   ]
  },
  {
   "cell_type": "code",
   "execution_count": null,
   "id": "70d046c1",
   "metadata": {},
   "outputs": [],
   "source": []
  }
 ],
 "metadata": {
  "kernelspec": {
   "display_name": "Python 3 (ipykernel)",
   "language": "python",
   "name": "python3"
  },
  "language_info": {
   "codemirror_mode": {
    "name": "ipython",
    "version": 3
   },
   "file_extension": ".py",
   "mimetype": "text/x-python",
   "name": "python",
   "nbconvert_exporter": "python",
   "pygments_lexer": "ipython3",
   "version": "3.9.16"
  }
 },
 "nbformat": 4,
 "nbformat_minor": 5
}
