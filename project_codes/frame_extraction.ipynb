{
 "cells": [
  {
   "cell_type": "markdown",
   "id": "30ca9a17",
   "metadata": {},
   "source": [
    "In this notebook, it is possible to load the history.csv file from the respective webcam containing the detections made by the preliminary model. Then, it is possible to randomly extract frames containing a certain species with a confidence level greater than or equal to 0.99."
   ]
  },
  {
   "cell_type": "code",
   "execution_count": null,
   "id": "75b841fd",
   "metadata": {},
   "outputs": [],
   "source": [
    "import os\n",
    "import cv2\n",
    "import pandas as pd\n",
    "from PIL import Image"
   ]
  },
  {
   "cell_type": "markdown",
   "id": "7541bf85",
   "metadata": {},
   "source": [
    "# Utils Functions"
   ]
  },
  {
   "cell_type": "code",
   "execution_count": null,
   "id": "ef04e0f1",
   "metadata": {},
   "outputs": [],
   "source": [
    "def convert_string_to_list(string, convert_to_float=False, delimiter=\",\"):\n",
    "    converted_list = string.strip('][ ').replace(\"'\", \"\").split(delimiter)\n",
    "    \n",
    "    if convert_to_float:\n",
    "        converted_list = [float(element.strip()) for element in converted_list if element != \"\"]\n",
    "    \n",
    "    return converted_list"
   ]
  },
  {
   "cell_type": "code",
   "execution_count": null,
   "id": "86c193a9",
   "metadata": {},
   "outputs": [],
   "source": [
    "def randomly_select_frames(history):\n",
    "    return history.sample(1500, replace=False, random_state=42)"
   ]
  },
  {
   "cell_type": "code",
   "execution_count": null,
   "id": "d2af00be",
   "metadata": {},
   "outputs": [],
   "source": [
    "def filter_by_detections_number(history, detections_number=2):\n",
    "    bool_mask = history['labels'].apply(lambda label: \n",
    "                    True if len(convert_string_to_list(label)) >= detections_number else False)\n",
    "    return history[bool_mask]\n",
    "    "
   ]
  },
  {
   "cell_type": "code",
   "execution_count": null,
   "id": "1b6f2fd6",
   "metadata": {},
   "outputs": [],
   "source": [
    "def create_used_index_file(filepath):\n",
    "    used_index = pd.DataFrame(columns=['used_index', 'label'])\n",
    "    used_index.to_csv(filepath, index=False)\n",
    "    "
   ]
  },
  {
   "cell_type": "code",
   "execution_count": null,
   "id": "42909a6a",
   "metadata": {},
   "outputs": [],
   "source": [
    "def load_used_index(history_path):\n",
    "    used_index_filename = 'used_index.csv'   \n",
    "    \n",
    "    if not os.path.isfile(history_path+used_index_filename):\n",
    "        create_used_index_file(history_path+used_index_filename)\n",
    "            \n",
    "    used_index = pd.read_csv(history_path+used_index_filename)\n",
    "    \n",
    "    # backup used_index\n",
    "    os.system(f'cp {history_path+used_index_filename} {history_path}used_index_bkp.csv')\n",
    "    \n",
    "    return used_index"
   ]
  },
  {
   "cell_type": "code",
   "execution_count": null,
   "id": "3630ae43",
   "metadata": {},
   "outputs": [],
   "source": [
    "def load_history_file(history_path):\n",
    "    \n",
    "    history_filename = 'history.csv'\n",
    "    history = pd.read_csv(history_path+history_filename)\n",
    "    \n",
    "    # backup history file\n",
    "    os.system(f'cp {history_path+history_filename} {history_path}history_bkp.csv')\n",
    "    \n",
    "    return history"
   ]
  },
  {
   "cell_type": "code",
   "execution_count": null,
   "id": "7c3dc301",
   "metadata": {},
   "outputs": [],
   "source": [
    "def extract_frame(filename, frame_pos, webcam_no, detected_videos_path, extraceted_images_path):\n",
    "    \n",
    "    image_filename = filename.replace('.mp4', f'_{frame_pos}_webcam0{webcam_no}.jpg')\n",
    "    \n",
    "    try:\n",
    "        video = cv2.VideoCapture(f'{detected_videos_path}{filename}')\n",
    "        video.set(cv2.CAP_PROP_POS_FRAMES, frame_pos)\n",
    "        ret, frame = video.read()\n",
    "        \n",
    "        frame = cv2.cvtColor(frame, cv2.COLOR_BGR2RGB)\n",
    "        frame = Image.fromarray(frame)\n",
    "        frame.save(f'{extracted_images_path}{image_filename}')\n",
    "    except Exception as e:\n",
    "        print(f'It was not possible to open the file {filename} due to: {e}')\n",
    "        \n",
    "        "
   ]
  },
  {
   "cell_type": "markdown",
   "id": "2ee6dc84",
   "metadata": {},
   "source": [
    "# Load History"
   ]
  },
  {
   "cell_type": "code",
   "execution_count": null,
   "id": "3d872d81",
   "metadata": {},
   "outputs": [],
   "source": [
    "webcam_no = 2 # webcam number (1 or 2)\n",
    "\n",
    "# path to the folder containing the recordings as well as the detection history csv file\n",
    "webcam_path = f'/media/lucaszampar/BACKUP/webcam0{webcam_no}/' \n",
    "\n",
    "history_path = f'{webcam_path}history/' # path to the history CSV file of the respective webcam\n",
    "extracted_images_path = f'{webcam_path}extracted_images/' # path to save the extracted frames\n",
    "detected_videos_path = f'{webcam_path}detected_videos/' # path to the recordings detected by the preliminary model \n"
   ]
  },
  {
   "cell_type": "code",
   "execution_count": null,
   "id": "b66900a7",
   "metadata": {},
   "outputs": [],
   "source": [
    "history = load_history_file(history_path)\n",
    "used_index = load_used_index(history_path) \n",
    "\n",
    "history.drop(used_index['used_index'], inplace=True) # drops indexes already used to avoid repeated data "
   ]
  },
  {
   "cell_type": "code",
   "execution_count": null,
   "id": "f29a2ab3",
   "metadata": {},
   "outputs": [],
   "source": [
    "# extracts the index, labels and confidence leves of the detectetions for each row of the dataframe\n",
    "dict_labels_scores = {}\n",
    "\n",
    "for index, row in history.iterrows():\n",
    "    labels = convert_string_to_list(row['labels'])\n",
    "    scores = convert_string_to_list(row['scores'], convert_to_float=True, delimiter=\" \")\n",
    "    \n",
    "    dict_labels_scores[index] = list(zip(labels, scores))"
   ]
  },
  {
   "cell_type": "markdown",
   "id": "ca7ad591",
   "metadata": {},
   "source": [
    "# Pick indexes with highest probability"
   ]
  },
  {
   "cell_type": "code",
   "execution_count": null,
   "id": "ad96df13",
   "metadata": {},
   "outputs": [],
   "source": [
    "indices = []\n",
    "\n",
    "label = \"chupim\" # portuguese species name\n",
    "score = 0.99 # confidence level score\n",
    "\n",
    "# selects only the detections containing the species and at least one detection with confidence level higher than 0.99\n",
    "for index, list_label_score  in dict_labels_scores.items():\n",
    "    for element in list_label_score: \n",
    "        \n",
    "        if element[0] == label and element[1] >= score:\n",
    "            indices.append(index)"
   ]
  },
  {
   "cell_type": "code",
   "execution_count": null,
   "id": "54820722",
   "metadata": {},
   "outputs": [],
   "source": [
    "# row indexes with detectetions containing the species are selected\n",
    "indices = pd.Series(indices)\n",
    "indices.index = indices"
   ]
  },
  {
   "cell_type": "markdown",
   "id": "a0ce59b3",
   "metadata": {},
   "source": [
    "# Save images"
   ]
  },
  {
   "cell_type": "code",
   "execution_count": null,
   "id": "6b7c142f",
   "metadata": {},
   "outputs": [],
   "source": [
    "n = 200 # number of frames to randomly extract"
   ]
  },
  {
   "cell_type": "code",
   "execution_count": null,
   "id": "299124e7",
   "metadata": {},
   "outputs": [],
   "source": [
    "# randomly selects a fixed number of detections\n",
    "samples = history.loc[indices].sample(n, replace=False, random_state=42)"
   ]
  },
  {
   "cell_type": "code",
   "execution_count": null,
   "id": "fa35e316",
   "metadata": {},
   "outputs": [],
   "source": [
    "# the selected frames are droped\n",
    "history.drop(samples.index, inplace=True)\n",
    "indices.drop(samples.index, inplace=True)"
   ]
  },
  {
   "cell_type": "code",
   "execution_count": null,
   "id": "c5835d41",
   "metadata": {},
   "outputs": [],
   "source": [
    "# the selected frames are extracted and saved\n",
    "for index, row in samples.iterrows():\n",
    "    extract_frame(row['filename'], row['frame_pos'], webcam_no, detected_videos_path,  extracted_images_path)"
   ]
  },
  {
   "cell_type": "code",
   "execution_count": null,
   "id": "a5c26588",
   "metadata": {},
   "outputs": [],
   "source": [
    "# the indexes of the history dataframe rows are saved in another file to avoid repeated data\n",
    "samples_index = samples.index.to_frame()\n",
    "samples_index.columns = ['used_index']\n",
    "samples_index['label'] = label\n",
    "\n",
    "used_index = pd.concat([used_index, samples_index], axis=0)\n",
    "used_index.to_csv(history_path+'used_index.csv', index=False)"
   ]
  },
  {
   "cell_type": "markdown",
   "id": "52aefccc",
   "metadata": {},
   "source": [
    "The lines 5 above were executed when any extracted frame did not contain the species or contained some distortion."
   ]
  },
  {
   "cell_type": "code",
   "execution_count": null,
   "id": "3f0cdcc4",
   "metadata": {},
   "outputs": [],
   "source": []
  }
 ],
 "metadata": {
  "kernelspec": {
   "display_name": "Python 3 (ipykernel)",
   "language": "python",
   "name": "python3"
  },
  "language_info": {
   "codemirror_mode": {
    "name": "ipython",
    "version": 3
   },
   "file_extension": ".py",
   "mimetype": "text/x-python",
   "name": "python",
   "nbconvert_exporter": "python",
   "pygments_lexer": "ipython3",
   "version": "3.9.16"
  }
 },
 "nbformat": 4,
 "nbformat_minor": 5
}
